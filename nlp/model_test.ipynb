{
 "cells": [
  {
   "cell_type": "code",
   "execution_count": 30,
   "metadata": {},
   "outputs": [],
   "source": [
    "import spacy\n",
    "from spacy import displacy\n",
    "\n",
    "ner = spacy.load(\"ner_output/model-best/\")\n",
    "textcat = spacy.load(\"textcat_output/model-best/\")"
   ]
  },
  {
   "cell_type": "markdown",
   "metadata": {},
   "source": [
    "NER:"
   ]
  },
  {
   "cell_type": "code",
   "execution_count": 34,
   "metadata": {},
   "outputs": [
    {
     "data": {
      "text/html": [
       "<span class=\"tex2jax_ignore\"><div class=\"entities\" style=\"line-height: 2.5; direction: ltr\"></br>WHY JOIN THE CANADIAN CANCER SOCIETY (CCS)?</br></br>The Canadian Cancer Society works tirelessly to save and improve lives. We fund the brightest minds in cancer research. We provide a compassionate support system for all those affected by cancer, from coast to coast and for all types of cancer. As the voice for Canadians who care about cancer, we work with governments to establish health policies to prevent cancer and better support those living with the disease. No other organization does all that we do to improve lives today and to change the future of cancer forever.</br></br>COME AS YOU ARE</br></br>At CCS, we embrace everyone’s uniqueness and recognize the strength that lies in differences. We believe in the power of our collective potential and strive to achieve a more diverse, inclusive, and equitable workplace to empower and create opportunities for all. We welcome and encourage applications from all qualified candidates regardless of their gender, age, religion, and nationality. Particularly equity deserving groups, such as members of the BIPOC, and LGBTQQIP2SAA communities, people living with disabilities, veterans, and anyone who may contribute to the further diversification of the Canadian Cancer Society. Together we unite and inspire all Canadians to change the future of cancer.</br></br>Visit cancer.ca today.</br></br>JOB OVERVIEW</br></br>Reporting to the Manager, Data Management, the Data Analyst provides support and subject matter expertise to the fundraising team in developing initiatives emphasising donor acquisition/retention, conversion rates, optimization, and performance tracking.</br></br>CCS is embarking on an exciting Digital Transformation to enhance our technology portfolio, leverage automation, and expand our digital capabilities to deliver a fully connected, intuitive, individually tailored and continuously evolving constituent experience.</br></br>As a Data Analyst, you will collaborate with fundraising team to implement high quality, data-driven and donor-centric decision-making solutions to increase fundraising annual revenue goals. You will be responsible for gathering large and varied datasets from database, collating and aggregating the data, and tracking and reporting revenue metrics to discover key data trends and insights by segments, products, and channel.</br></br>This role can be based anywhere in Canada.</br></br>WHAT YOU’LL BE DOING:</br></br>Identify trends and validate the hypothesis with data-led insight</br>Translate data into actionable insights by performing analysis, making recommendations on improving strategy through data-driven decision making</br>Predict future donor behavior based on the historical data to help business draft insight and scenario planning</br>Acts as a subject matter expert for data best practices, aiding in the assessment of proposals and designs for alignment to the CCS data strategy.</br>Deliver timely, high quality fundraising campaigns including segmentation, list requests, post campaign analyses and insights.</br>Creation and management of ad hoc and scheduled reports for a variety of end users</br>Perform quality control checks on data and work with external vendors to ensure data accuracy in back feed files prior to upload to Salesforce</br>Ensure data compliance with all provincial and federal legislation, including donor privacy, data security, CASL</br>Document data extraction procedures, identifying process enhancement and automation opportunities</br>Actively contribute to our culture of justice, equity, diversity, and inclusion by encouraging dialogue that respectfully considers a wide variety of ideas, opinions, and suggestions.</br></br>QUALIFICATIONS:</br></br>Post-secondary degree in information management, \n",
       "<mark class=\"entity\" style=\"background: #ddd; padding: 0.45em 0.6em; margin: 0 0.25em; line-height: 1; border-radius: 0.35em;\">\n",
       "    computer science\n",
       "    <span style=\"font-size: 0.8em; font-weight: bold; line-height: 1; border-radius: 0.35em; vertical-align: middle; margin-left: 0.5rem\">major</span>\n",
       "</mark>\n",
       ", or related field of study</br>Experience using analytics tools and dashboards, such as \n",
       "<mark class=\"entity\" style=\"background: #ddd; padding: 0.45em 0.6em; margin: 0 0.25em; line-height: 1; border-radius: 0.35em;\">\n",
       "    Tableau\n",
       "    <span style=\"font-size: 0.8em; font-weight: bold; line-height: 1; border-radius: 0.35em; vertical-align: middle; margin-left: 0.5rem\">BI</span>\n",
       "</mark>\n",
       ". Working with Salesforce environment considered an asset.</br>Proficiency with \n",
       "<mark class=\"entity\" style=\"background: #ddd; padding: 0.45em 0.6em; margin: 0 0.25em; line-height: 1; border-radius: 0.35em;\">\n",
       "    SQL\n",
       "    <span style=\"font-size: 0.8em; font-weight: bold; line-height: 1; border-radius: 0.35em; vertical-align: middle; margin-left: 0.5rem\">programming</span>\n",
       "</mark>\n",
       " and relational databases</br>Experience conducting marketing campaign segmentation and analysis</br>Excellent analytical and problem-solving skills with strong attention to detail and ability to solve difficult problems in a timely manner while working across multiple stakeholder groups.</br>Good interpersonal and communication skills with a strong focus on customer service</br>Bilingual (English and French) would be considered an asset</br></br>WHAT YOU CAN EXPECT FROM US:</br></br>CCS offers meaningful opportunities to help make a difference in the lives of Canadians with cancer, their caregivers, families and communities. We are committed to building and nurturing an inclusive community for our employees by highlighting their unique experiences. We value diverse skills and strongly encourage applications from all qualified candidates. CCS is committed to fostering a culture that is inspiring, supportive and exemplifies our core values:</br></br>CARING COURAGE INTEGRITY PROGRESSIVE.</br></br>In return for your skills and dedication, we offer an attractive compensation package that encompasses a competitive salary, excellent benefits, which include paid parental leave, paid family sick time and health insurance, and the opportunity to have a rewarding employment experience where your contributions can make a true difference every day.</br></br>HOW TO APPLY:</br></br>Qualified candidates are invited to submit their resume, cover letter and salary expectations by May 17, 2022.</br></br>For internal candidates, this position is assigned to salary band 5.</br></br>CCS is committed to employment equity and encourages applications from all qualified candidates. In accordance with the local provincialAccessibility Act, accommodation will be provided as requested throughout the recruitment process.We want to make the interview process a great experience for you!</br></br>We thank all candidates for their interest and advise that only those selected for an interview will be contacted.</br></br>Please note that in keeping with the mandate of CCS to model and promote healthylifestyles, employees are not permitted to smoke in or about CCS premises or while carrying out CCS business.</br></br>As an employer, occupational health and safety legislation requires that we protect our workers from health and safety risks in the workplace. CCS has implemented a mandatory vaccination policy requiring that all staff who work in any of our physical workplaces must be fully vaccinated against COVID-19. All employees will need to attest to their vaccination status through a secure online form or automated applications. Reasonable accommodation and remote working will be discussed on a case-by-case basis.</br></div></span>"
      ],
      "text/plain": [
       "<IPython.core.display.HTML object>"
      ]
     },
     "metadata": {},
     "output_type": "display_data"
    },
    {
     "name": "stdout",
     "output_type": "stream",
     "text": [
      "computer science - major\n",
      "Tableau - BI\n",
      "SQL - programming\n"
     ]
    }
   ],
   "source": [
    "s = '''\n",
    "WHY JOIN THE CANADIAN CANCER SOCIETY (CCS)?\n",
    "\n",
    "The Canadian Cancer Society works tirelessly to save and improve lives. We fund the brightest minds in cancer research. We provide a compassionate support system for all those affected by cancer, from coast to coast and for all types of cancer. As the voice for Canadians who care about cancer, we work with governments to establish health policies to prevent cancer and better support those living with the disease. No other organization does all that we do to improve lives today and to change the future of cancer forever.\n",
    "\n",
    "COME AS YOU ARE\n",
    "\n",
    "At CCS, we embrace everyone’s uniqueness and recognize the strength that lies in differences. We believe in the power of our collective potential and strive to achieve a more diverse, inclusive, and equitable workplace to empower and create opportunities for all. We welcome and encourage applications from all qualified candidates regardless of their gender, age, religion, and nationality. Particularly equity deserving groups, such as members of the BIPOC, and LGBTQQIP2SAA communities, people living with disabilities, veterans, and anyone who may contribute to the further diversification of the Canadian Cancer Society. Together we unite and inspire all Canadians to change the future of cancer.\n",
    "\n",
    "Visit cancer.ca today.\n",
    "\n",
    "JOB OVERVIEW\n",
    "\n",
    "Reporting to the Manager, Data Management, the Data Analyst provides support and subject matter expertise to the fundraising team in developing initiatives emphasising donor acquisition/retention, conversion rates, optimization, and performance tracking.\n",
    "\n",
    "CCS is embarking on an exciting Digital Transformation to enhance our technology portfolio, leverage automation, and expand our digital capabilities to deliver a fully connected, intuitive, individually tailored and continuously evolving constituent experience.\n",
    "\n",
    "As a Data Analyst, you will collaborate with fundraising team to implement high quality, data-driven and donor-centric decision-making solutions to increase fundraising annual revenue goals. You will be responsible for gathering large and varied datasets from database, collating and aggregating the data, and tracking and reporting revenue metrics to discover key data trends and insights by segments, products, and channel.\n",
    "\n",
    "This role can be based anywhere in Canada.\n",
    "\n",
    "WHAT YOU’LL BE DOING:\n",
    "\n",
    "Identify trends and validate the hypothesis with data-led insight\n",
    "Translate data into actionable insights by performing analysis, making recommendations on improving strategy through data-driven decision making\n",
    "Predict future donor behavior based on the historical data to help business draft insight and scenario planning\n",
    "Acts as a subject matter expert for data best practices, aiding in the assessment of proposals and designs for alignment to the CCS data strategy.\n",
    "Deliver timely, high quality fundraising campaigns including segmentation, list requests, post campaign analyses and insights.\n",
    "Creation and management of ad hoc and scheduled reports for a variety of end users\n",
    "Perform quality control checks on data and work with external vendors to ensure data accuracy in back feed files prior to upload to Salesforce\n",
    "Ensure data compliance with all provincial and federal legislation, including donor privacy, data security, CASL\n",
    "Document data extraction procedures, identifying process enhancement and automation opportunities\n",
    "Actively contribute to our culture of justice, equity, diversity, and inclusion by encouraging dialogue that respectfully considers a wide variety of ideas, opinions, and suggestions.\n",
    "\n",
    "QUALIFICATIONS:\n",
    "\n",
    "Post-secondary degree in information management, computer science, or related field of study\n",
    "Experience using analytics tools and dashboards, such as Tableau. Working with Salesforce environment considered an asset.\n",
    "Proficiency with SQL and relational databases\n",
    "Experience conducting marketing campaign segmentation and analysis\n",
    "Excellent analytical and problem-solving skills with strong attention to detail and ability to solve difficult problems in a timely manner while working across multiple stakeholder groups.\n",
    "Good interpersonal and communication skills with a strong focus on customer service\n",
    "Bilingual (English and French) would be considered an asset\n",
    "\n",
    "WHAT YOU CAN EXPECT FROM US:\n",
    "\n",
    "CCS offers meaningful opportunities to help make a difference in the lives of Canadians with cancer, their caregivers, families and communities. We are committed to building and nurturing an inclusive community for our employees by highlighting their unique experiences. We value diverse skills and strongly encourage applications from all qualified candidates. CCS is committed to fostering a culture that is inspiring, supportive and exemplifies our core values:\n",
    "\n",
    "CARING COURAGE INTEGRITY PROGRESSIVE.\n",
    "\n",
    "In return for your skills and dedication, we offer an attractive compensation package that encompasses a competitive salary, excellent benefits, which include paid parental leave, paid family sick time and health insurance, and the opportunity to have a rewarding employment experience where your contributions can make a true difference every day.\n",
    "\n",
    "HOW TO APPLY:\n",
    "\n",
    "Qualified candidates are invited to submit their resume, cover letter and salary expectations by May 17, 2022.\n",
    "\n",
    "For internal candidates, this position is assigned to salary band 5.\n",
    "\n",
    "CCS is committed to employment equity and encourages applications from all qualified candidates. In accordance with the local provincialAccessibility Act, accommodation will be provided as requested throughout the recruitment process.We want to make the interview process a great experience for you!\n",
    "\n",
    "We thank all candidates for their interest and advise that only those selected for an interview will be contacted.\n",
    "\n",
    "Please note that in keeping with the mandate of CCS to model and promote healthylifestyles, employees are not permitted to smoke in or about CCS premises or while carrying out CCS business.\n",
    "\n",
    "As an employer, occupational health and safety legislation requires that we protect our workers from health and safety risks in the workplace. CCS has implemented a mandatory vaccination policy requiring that all staff who work in any of our physical workplaces must be fully vaccinated against COVID-19. All employees will need to attest to their vaccination status through a secure online form or automated applications. Reasonable accommodation and remote working will be discussed on a case-by-case basis.\n",
    "'''\n",
    "doc = ner(s)\n",
    "displacy.render(doc, style=\"ent\", jupyter=True)\n",
    "for ent in doc.ents:\n",
    "   print(f\"{ent} - {ent.label_}\")"
   ]
  },
  {
   "cell_type": "code",
   "execution_count": 29,
   "metadata": {},
   "outputs": [
    {
     "name": "stdout",
     "output_type": "stream",
     "text": [
      "{'Data Analyst': 0.0002162434539059177, 'Data Scientist': 0.9997838139533997, 'Irrelevant': 3.1408639245000813e-08}\n"
     ]
    }
   ],
   "source": [
    "s = '''\n",
    "Machine Learning Scientist Intern\n",
    "'''\n",
    "doc = textcat(s)\n",
    "print(doc.cats)"
   ]
  },
  {
   "cell_type": "code",
   "execution_count": 26,
   "metadata": {},
   "outputs": [
    {
     "name": "stdout",
     "output_type": "stream",
     "text": [
      "ba\n"
     ]
    }
   ],
   "source": [
    "lemma = spacy.load('en_core_web_sm')\n",
    "\n",
    "s = \"BA\"\n",
    "\n",
    "doc = lemma(s.lower())\n",
    "\n",
    "print(\" \".join([token.lemma_ for token in doc]))\n",
    "\n",
    "# for token in doc:\n",
    "#     print(token, token.lemma_)"
   ]
  }
 ],
 "metadata": {
  "interpreter": {
   "hash": "727f24b97d553f11449441ba359b7fba79eea0ecdbd3b39f57881265b46b6d86"
  },
  "kernelspec": {
   "display_name": "Python 3.10.4 ('crawl')",
   "language": "python",
   "name": "python3"
  },
  "language_info": {
   "codemirror_mode": {
    "name": "ipython",
    "version": 3
   },
   "file_extension": ".py",
   "mimetype": "text/x-python",
   "name": "python",
   "nbconvert_exporter": "python",
   "pygments_lexer": "ipython3",
   "version": "3.10.4"
  },
  "orig_nbformat": 4
 },
 "nbformat": 4,
 "nbformat_minor": 2
}
