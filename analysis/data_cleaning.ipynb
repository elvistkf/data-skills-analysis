{
 "cells": [
  {
   "cell_type": "code",
   "execution_count": 11,
   "metadata": {},
   "outputs": [],
   "source": [
    "import os, sys\n",
    "parent_dir = os.path.abspath('..')\n",
    "if parent_dir not in sys.path:\n",
    "    sys.path.append(parent_dir)\n",
    "from skills_crawling.settings import MONGO_URI\n",
    "\n",
    "import pymongo\n",
    "\n",
    "mongo_uri = MONGO_URI\n",
    "mongo_db = 'data-analysis'\n",
    "mongo_collection = 'skills-crawling'\n",
    "\n",
    "client = pymongo.MongoClient(mongo_uri)\n",
    "db = client[mongo_db]\n",
    "collection = db[mongo_collection]"
   ]
  },
  {
   "cell_type": "code",
   "execution_count": 12,
   "metadata": {},
   "outputs": [
    {
     "name": "stdout",
     "output_type": "stream",
     "text": [
      "Total number of documents retrieved: 1156\n"
     ]
    }
   ],
   "source": [
    "skill_set = {\n",
    "    \"programming\": [],\n",
    "    \"BI\": [],\n",
    "    \"major\": [],\n",
    "    \"degree\": [],\n",
    "    \"DB\": [],\n",
    "    \"cloud\": []\n",
    "}\n",
    "\n",
    "documents = collection.find({})\n",
    "count = 0\n",
    "for item in documents:\n",
    "    count += 1\n",
    "    for key in skill_set.keys():\n",
    "        if key not in item:\n",
    "            continue\n",
    "        skill_set[key].extend(item[key])\n",
    "\n",
    "print(f\"Total number of documents retrieved: {count}\")"
   ]
  },
  {
   "cell_type": "code",
   "execution_count": 13,
   "metadata": {},
   "outputs": [
    {
     "name": "stdout",
     "output_type": "stream",
     "text": [
      "programming: -- Python (58.39%) SQL (51.73%) R (26.47%) Java (10.90%) SAS (8.74%) C++ (8.65%) Scala (5.62%) C (4.84%) JavaScript (4.15%) C# (3.46%) VBA (3.03%) MATLAB (2.42%) HTML (1.82%) .NET (1.64%) XML (1.38%) CSS (1.12%) PHP (0.95%) Perl (0.87%) Julia (0.78%) Bash (0.69%) \n",
      "BI: -- Tableau (20.67%) Power BI (20.07%) Excel (18.60%) Looker (4.76%) Qlik (2.77%) Cognos (1.73%) Alteryx (1.56%) Google Data Studio (1.21%) MicroStrategy (0.69%) Spotfire (0.61%) \n",
      "major: -- Computer Science (45.59%) Engineering (36.33%) Statistics (29.07%) Mathematics (28.20%) Data Science (17.82%) Economics (10.90%) Science (9.08%) Information Technology (5.62%) Finance (4.93%) Business (4.76%) Information Systems (3.37%) Physics (3.20%) Marketing (2.68%) Business Administration (2.34%) Bioinformatics (1.21%) Operations Research (0.95%) Information Management (0.69%) Information Science (0.61%) Epidemiology (0.43%) Financial engineering (0.43%) \n",
      "degree: -- Bachelor (38.15%) Master (22.84%) PhD (7.18%) Diploma (3.72%) \n",
      "DB: -- Oracle (6.92%) Access (6.57%) MSSQL (3.72%) MySQL (2.77%) PostgreSQL (1.64%) MongoDB (1.04%) Teradata (0.95%) MariaDB (0.09%) \n",
      "cloud: -- AWS (16.35%) Azure (12.11%) GCP (8.04%) Snowflake (4.67%) Terraform (0.87%) Cloudera (0.35%) \n"
     ]
    }
   ],
   "source": [
    "from collections import Counter\n",
    "\n",
    "for key in skill_set.keys():\n",
    "    c = Counter(skill_set[key]).most_common(20)\n",
    "    print(f\"{key}: --\", end=\" \")\n",
    "    for val in c:\n",
    "        print(f\"{val[0]} ({val[1]/count:.2%})\", end=\" \")\n",
    "    print(\"\")"
   ]
  },
  {
   "cell_type": "code",
   "execution_count": 8,
   "metadata": {},
   "outputs": [],
   "source": [
    "import json\n",
    "\n",
    "skill_clean = {key: {} for key in skill_set.keys()}\n",
    "\n",
    "# Load existing mapping from skill_clean.json\n",
    "try:\n",
    "    with open(\"skill_clean.json\") as f:\n",
    "        _sc = json.load(f)\n",
    "        for k1, v1 in _sc.items():\n",
    "            for k2, v2 in v1.items():\n",
    "                skill_clean[k1][k2] = v2\n",
    "except:\n",
    "    pass\n",
    "\n",
    "# Dump all non-existent mapping to skill_clean.json from the database\n",
    "for key in skill_set.keys():\n",
    "    c = Counter(skill_set[key]).most_common(30)\n",
    "    for val in c:\n",
    "        if val[0] not in skill_clean[key]:\n",
    "            skill_clean[key][val[0]] = val[0]\n",
    "\n",
    "with open('skill_clean.json', 'w', encoding='utf-8') as f:\n",
    "    json.dump(skill_clean, f, ensure_ascii=False, indent=4)\n"
   ]
  },
  {
   "cell_type": "code",
   "execution_count": 10,
   "metadata": {},
   "outputs": [],
   "source": [
    "# After manually edit the mapping skill_clean.json, update the database\n",
    "\n",
    "with open(\"skill_clean.json\") as f:\n",
    "    sc = json.load(f)\n",
    "\n",
    "documents = collection.find({})\n",
    "\n",
    "for item in documents:\n",
    "    if item.get(\"cleaned\", False):\n",
    "        continue\n",
    "    for key in sc.keys():\n",
    "        if key not in item:\n",
    "            continue\n",
    "        new_set = list(set([sc[key][s] for s in item[key] if s in sc[key]]))\n",
    "        item[key] = new_set\n",
    "        if len(item[key]) == 0:\n",
    "            item.pop(key)\n",
    "    item[\"cleaned\"] = True\n",
    "\n",
    "    collection.replace_one(\n",
    "        {\"_id\": item[\"_id\"]},\n",
    "        item\n",
    "    )"
   ]
  }
 ],
 "metadata": {
  "interpreter": {
   "hash": "727f24b97d553f11449441ba359b7fba79eea0ecdbd3b39f57881265b46b6d86"
  },
  "kernelspec": {
   "display_name": "Python 3.10.4 ('crawl')",
   "language": "python",
   "name": "python3"
  },
  "language_info": {
   "codemirror_mode": {
    "name": "ipython",
    "version": 3
   },
   "file_extension": ".py",
   "mimetype": "text/x-python",
   "name": "python",
   "nbconvert_exporter": "python",
   "pygments_lexer": "ipython3",
   "version": "3.10.4"
  },
  "orig_nbformat": 4
 },
 "nbformat": 4,
 "nbformat_minor": 2
}
