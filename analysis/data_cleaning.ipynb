{
 "cells": [
  {
   "cell_type": "code",
   "execution_count": 1,
   "metadata": {},
   "outputs": [],
   "source": [
    "import os, sys\n",
    "parent_dir = os.path.abspath('..')\n",
    "if parent_dir not in sys.path:\n",
    "    sys.path.append(parent_dir)\n",
    "from skills_crawling.settings import MONGO_URI\n",
    "\n",
    "import pymongo\n",
    "\n",
    "mongo_uri = MONGO_URI\n",
    "mongo_db = 'data-analysis'\n",
    "mongo_collection = 'skills-crawling'\n",
    "\n",
    "client = pymongo.MongoClient(mongo_uri)\n",
    "db = client[mongo_db]\n",
    "collection = db[mongo_collection]"
   ]
  },
  {
   "cell_type": "code",
   "execution_count": 2,
   "metadata": {},
   "outputs": [
    {
     "name": "stdout",
     "output_type": "stream",
     "text": [
      "Total number of documents retrieved: 1353\n"
     ]
    }
   ],
   "source": [
    "skill_set = {\n",
    "    \"programming\": [],\n",
    "    \"BI\": [],\n",
    "    \"major\": [],\n",
    "    \"degree\": [],\n",
    "    \"DB\": [],\n",
    "    \"cloud\": []\n",
    "}\n",
    "\n",
    "documents = collection.find({})\n",
    "count = 0\n",
    "for item in documents:\n",
    "    count += 1\n",
    "    for key in skill_set.keys():\n",
    "        if key not in item:\n",
    "            continue\n",
    "        skill_set[key].extend(item[key])\n",
    "\n",
    "print(f\"Total number of documents retrieved: {count}\")"
   ]
  },
  {
   "cell_type": "code",
   "execution_count": 3,
   "metadata": {},
   "outputs": [
    {
     "name": "stdout",
     "output_type": "stream",
     "text": [
      "programming: -- Python (49.89%) SQL (44.20%) R (22.62%) Java (9.31%) SAS (7.46%) C++ (7.39%) sql (6.87%) Scala (4.80%) python (4.29%) C (4.14%) JavaScript (3.55%) C# (2.96%) r (2.81%) VBA (2.59%) MATLAB (2.07%) HTML (1.55%) .NET (1.40%) XML (1.18%) sas (1.18%) CSS (0.96%) \n",
      "BI: -- Tableau (17.66%) Power BI (17.15%) Excel (15.89%) excel (5.91%) Looker (4.07%) tableau (3.99%) power bi (3.62%) Qlik (2.37%) Cognos (1.48%) Alteryx (1.33%) powerbi (1.26%) Google Data Studio (1.03%) looker (0.67%) MicroStrategy (0.59%) Spotfire (0.52%) une (0.37%) de (0.37%) à (0.37%) google (0.30%) 2021 (0.30%) \n",
      "major: -- Computer Science (38.95%) Engineering (31.04%) Statistics (24.83%) Mathematics (24.09%) Data Science (15.23%) Economics (9.31%) Science (7.76%) Information Technology (4.80%) Finance (4.21%) Business (4.07%) computer science (3.92%) Information Systems (2.88%) statistics (2.81%) Physics (2.73%) Marketing (2.29%) Business Administration (2.00%) engineering (1.85%) mathematics (1.63%) economics (1.26%) Bioinformatics (1.03%) \n",
      "degree: -- Bachelor (32.59%) Master (19.51%) PhD (6.13%) bachelor (4.88%) Diploma (3.18%) master (0.30%) à (0.22%) university (0.15%) class (0.07%) bonne (0.07%) j.d . (0.07%) phd (0.07%) diploma (0.07%) \n",
      "DB: -- Oracle (5.91%) Access (5.62%) MSSQL (3.18%) MySQL (2.37%) PostgreSQL (1.40%) access (1.18%) MongoDB (0.89%) Teradata (0.81%) sql server (0.59%) oracle (0.59%) mysql (0.44%) microsoft sql server (0.37%) données (0.30%) postgresql (0.30%) microsoft power bi (0.30%) spss (0.22%) db2 (0.15%) teradata (0.15%) interview(s (0.15%) bcgeu): (0.15%) \n",
      "cloud: -- AWS (13.97%) Azure (10.35%) GCP (6.87%) Snowflake (3.99%) azure (1.48%) Terraform (0.74%) aws (0.74%) google (0.44%) snowflake (0.44%) Cloudera (0.30%) redshift (0.30%) factory (0.22%) gcp (0.22%) mf2 (0.15%) glance (0.15%) sshrc (0.15%) adobe (0.15%) tidal (0.07%) databse (0.07%) que (0.07%) \n"
     ]
    }
   ],
   "source": [
    "from collections import Counter\n",
    "\n",
    "for key in skill_set.keys():\n",
    "    c = Counter(skill_set[key]).most_common(20)\n",
    "    print(f\"{key}: --\", end=\" \")\n",
    "    for val in c:\n",
    "        print(f\"{val[0]} ({val[1]/count:.2%})\", end=\" \")\n",
    "    print(\"\")"
   ]
  },
  {
   "cell_type": "code",
   "execution_count": 8,
   "metadata": {},
   "outputs": [],
   "source": [
    "import json\n",
    "\n",
    "skill_clean = {key: {} for key in skill_set.keys()}\n",
    "\n",
    "# Load existing mapping from skill_clean.json\n",
    "try:\n",
    "    with open(\"skill_clean.json\") as f:\n",
    "        _sc = json.load(f)\n",
    "        for k1, v1 in _sc.items():\n",
    "            for k2, v2 in v1.items():\n",
    "                skill_clean[k1][k2] = v2\n",
    "except:\n",
    "    pass\n",
    "\n",
    "# Dump all non-existent mapping to skill_clean.json from the database\n",
    "for key in skill_set.keys():\n",
    "    c = Counter(skill_set[key]).most_common(30)\n",
    "    for val in c:\n",
    "        if val[0] not in skill_clean[key]:\n",
    "            skill_clean[key][val[0]] = val[0]\n",
    "\n",
    "with open('skill_clean.json', 'w', encoding='utf-8') as f:\n",
    "    json.dump(skill_clean, f, ensure_ascii=False, indent=4)\n"
   ]
  },
  {
   "cell_type": "code",
   "execution_count": 10,
   "metadata": {},
   "outputs": [],
   "source": [
    "# After manually edit the mapping skill_clean.json, update the database\n",
    "\n",
    "with open(\"skill_clean.json\") as f:\n",
    "    sc = json.load(f)\n",
    "\n",
    "documents = collection.find({})\n",
    "\n",
    "for item in documents:\n",
    "    if item.get(\"cleaned\", False):\n",
    "        continue\n",
    "    for key in sc.keys():\n",
    "        if key not in item:\n",
    "            continue\n",
    "        new_set = list(set([sc[key][s] for s in item[key] if s in sc[key]]))\n",
    "        item[key] = new_set\n",
    "        if len(item[key]) == 0:\n",
    "            item.pop(key)\n",
    "    item[\"cleaned\"] = True\n",
    "\n",
    "    collection.replace_one(\n",
    "        {\"_id\": item[\"_id\"]},\n",
    "        item\n",
    "    )"
   ]
  }
 ],
 "metadata": {
  "interpreter": {
   "hash": "727f24b97d553f11449441ba359b7fba79eea0ecdbd3b39f57881265b46b6d86"
  },
  "kernelspec": {
   "display_name": "Python 3.10.4 ('crawl')",
   "language": "python",
   "name": "python3"
  },
  "language_info": {
   "codemirror_mode": {
    "name": "ipython",
    "version": 3
   },
   "file_extension": ".py",
   "mimetype": "text/x-python",
   "name": "python",
   "nbconvert_exporter": "python",
   "pygments_lexer": "ipython3",
   "version": "3.10.4"
  },
  "orig_nbformat": 4
 },
 "nbformat": 4,
 "nbformat_minor": 2
}
